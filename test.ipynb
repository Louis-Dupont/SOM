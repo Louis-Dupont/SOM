{
 "cells": [
  {
   "cell_type": "code",
   "execution_count": 1,
   "metadata": {},
   "outputs": [],
   "source": [
    "import numpy as np"
   ]
  },
  {
   "cell_type": "code",
   "execution_count": 16,
   "metadata": {},
   "outputs": [],
   "source": [
    "# def add_dim(x, data = {\"depth\":0}):\n",
    "#     if x.shape[0]>0:\n",
    "#         data[\"depth\"]+=1\n",
    "#         return np.array([add_dim(x[1:], data) for _ in range(x[0])])\n",
    "#     else:\n",
    "#         return Node(0)\n",
    "        "
   ]
  },
  {
   "cell_type": "code",
   "execution_count": 106,
   "metadata": {},
   "outputs": [
    {
     "data": {
      "text/plain": [
       "True"
      ]
     },
     "execution_count": 106,
     "metadata": {},
     "output_type": "execute_result"
    }
   ],
   "source": [
    "y = Lattice_2D(x)\n",
    "type(x)==np.ndarray"
   ]
  },
  {
   "cell_type": "code",
   "execution_count": 269,
   "metadata": {},
   "outputs": [],
   "source": [
    "class Node():\n",
    "    def __init__(self, lattice, *args):\n",
    "        self.lattice = lattice\n",
    "        self.weight   = np.array(args) \n",
    "        self.position = np.array(args)\n",
    "        \n",
    "    def get_weight(self):\n",
    "        return self.weight\n",
    "    \n",
    "    def get_position(self):\n",
    "        return self.position\n",
    "    \n",
    "    def distance_to(self, vector):\n",
    "        return self.lattice.distance_function(vector- self.weight)\n",
    "    \n",
    "    def __getitem__(self, i):\n",
    "        return self.position[i]\n",
    "    \n",
    "    def __add__(self, other):\n",
    "        try:\n",
    "            self.weight = self.weight + other\n",
    "            return self\n",
    "        except TypeError:\n",
    "            raise TypeError(f\"type {type(self.weight)} and type {type(other)} can not be + \")\n",
    "            \n",
    "    def __neg__(self, other):\n",
    "        try:\n",
    "            self.weight = self.weight - other\n",
    "            return self\n",
    "        except TypeError:\n",
    "            raise TypeError(f\"type {type(self.weight)} and type {type(other)} can not be - \")\n",
    "    \n",
    "    def __mul__(self, other):\n",
    "        try:\n",
    "            if \n",
    "            self.weight = other*self.weight\n",
    "            return self\n",
    "        except TypeError:\n",
    "            raise TypeError(f\"type {type(self.weight)} and type {type(other)} can not be multiplied\")\n",
    "            \n",
    "            \n",
    "class Lattice():\n",
    "    def __init__(self):\n",
    "        self.lattice = None\n",
    "        self.distance_function = np.linalg.norm\n",
    "             \n",
    "    def __getitem__(self, position):\n",
    "        return self.lattice[position]   \n",
    "        \n",
    "    \n",
    "    def node_distance(self, node_1, node_2):\n",
    "        return self.distance_function(node_1.weight-node_2.weight)\n",
    "    \n",
    "    def get_node_weight(self, position):\n",
    "        return self[position].get_weight()\n",
    "    \n",
    "        \n",
    "    def get_weight(self):\n",
    "        f = np.vectorize(lambda node: node.get_weight(), signature='()->(n)')\n",
    "        return f(self.lattice)\n",
    "    \n",
    "    def get_position(self):\n",
    "        f = np.vectorize(lambda node: node.get_position(), signature='()->(n)')\n",
    "        return f(self.lattice)\n",
    "    \n",
    "    \n",
    "    \n",
    "    def relative_distance(self, ref_vector):\n",
    "        f = np.vectorize(lambda node: node.distance_to(ref_vector))\n",
    "        return f(self.lattice)\n",
    "    \n",
    "    def find_closest_id(self, ref_vector):\n",
    "        distance_matrix = self.relative_distance(ref_vector)\n",
    "        return np.unravel_index(distance_matrix.argmin(), distance_matrix.shape)\n",
    "    \n",
    "    def find_closest(self, ref_vector):\n",
    "        return self.lattice[self.find_closest_id(ref_vector)]\n",
    "    \n",
    "#     epsilon, sigma, h\n",
    "#     def h(i, j, t):\n",
    "#         return exp(-d(i, j)**2/(2*sigma(t)**2))\n",
    "    \n",
    "#     def sigma(t):\n",
    "#         sigma_0*exp(-t/tmax)\n",
    "        \n",
    "        \n",
    "\n",
    "        \n",
    "    \n",
    "    \n",
    "    def train(self, input):\n",
    "        \n",
    "        class DecreasingExp():\n",
    "            def __init__(self, x_0, x_max):\n",
    "                self.x_0 = x_0\n",
    "                self.x_max = x_max\n",
    "            def value(self, x):\n",
    "                return self.x_0*np.exp(-x/self.x_max)\n",
    "        \n",
    "        \n",
    "        class Normal():\n",
    "            def __init__(self, node_distance, epsilon, sigma):\n",
    "                self.distance = node_distance\n",
    "                self.epsilon  = epsilon\n",
    "                self.sigma    = sigma\n",
    "            def value(self, node_i, node_j, t):\n",
    "                epsilon_t = self.epsilon.value(t)\n",
    "                d_ij      = self.distance(node_i, node_j)\n",
    "                sigma_t   = self.sigma.value(t)\n",
    "                return epsilon_t*np.exp(-d_ij**2/(2*sigma_t**2))\n",
    "\n",
    "        class Update():\n",
    "            def __init__(self, node_distance, \n",
    "                         epsilon_0 = 1, epsilon_max = 100, \n",
    "                         sigma_0   = 1, sigma_max   = 100):\n",
    "                self.node_distance = node_distance\n",
    "                self.epsilon  = DecreasingExp(epsilon_0, epsilon_max)\n",
    "                self.sigma    = DecreasingExp(sigma_0, sigma_max)\n",
    "                self.coef     = Normal(self.node_distance, self.epsilon, self.sigma)\n",
    "\n",
    "            def value(self, reference_vector, best_matching_node, current_node, t):\n",
    "                return self.coef.value(best_matching_node, current_node, t)\n",
    "        \n",
    "        \n",
    "        \n",
    "        best_matching_node = self.find_closest(input)\n",
    "        update = Update(self.node_distance)\n",
    "        \n",
    "        for node in self:\n",
    "            print(update.value(reference_vector = input, \n",
    "                   best_matching_node = best_matching_node,\n",
    "                   current_node = node,\n",
    "                   t = 0) )\n",
    "    # TODO : add an iterable here, to avoid thinking about i, j (, k, ...)\n",
    "    \n",
    "    \n",
    "    def __iter__(self):\n",
    "        pass\n",
    "    \n",
    "    \n",
    "    \n",
    "    \n",
    "    \n",
    "class Lattice_1D(Lattice):\n",
    "    def __init__(self, list_dim):\n",
    "        super().__init__()\n",
    "        self.lattice = np.array([Node(self, i) for i in range(list_dim[0])])\n",
    "                \n",
    "    def __iter__(self):\n",
    "        for i in xrange(self.list_dim[0]):\n",
    "            yield self.lattice[i]\n",
    "\n",
    "            \n",
    "class Lattice_2D(Lattice):\n",
    "    def __init__(self, list_dim):\n",
    "        super().__init__()\n",
    "        self.list_dim = list_dim\n",
    "        self.lattice = np.array([[Node(self, i, j) for j in range(list_dim[1])] \n",
    "                                                   for i in range(list_dim[0])])\n",
    "        \n",
    "    \n",
    "    def __iter__(self):\n",
    "        for i in range(self.list_dim[0]):\n",
    "            for j in range(self.list_dim[1]):\n",
    "                yield self.lattice[i][j]"
   ]
  },
  {
   "cell_type": "code",
   "execution_count": null,
   "metadata": {},
   "outputs": [],
   "source": []
  },
  {
   "cell_type": "code",
   "execution_count": 270,
   "metadata": {},
   "outputs": [],
   "source": [
    "x = np.array([3, 5])"
   ]
  },
  {
   "cell_type": "code",
   "execution_count": 271,
   "metadata": {},
   "outputs": [],
   "source": [
    "y = Lattice_2D(x)"
   ]
  },
  {
   "cell_type": "code",
   "execution_count": 272,
   "metadata": {},
   "outputs": [
    {
     "data": {
      "text/plain": [
       "(3, 5)"
      ]
     },
     "execution_count": 272,
     "metadata": {},
     "output_type": "execute_result"
    }
   ],
   "source": [
    "np.array(y.lattice).shape"
   ]
  },
  {
   "cell_type": "code",
   "execution_count": 273,
   "metadata": {},
   "outputs": [],
   "source": [
    "w = y.get_weight()"
   ]
  },
  {
   "cell_type": "code",
   "execution_count": 274,
   "metadata": {},
   "outputs": [],
   "source": [
    "a = y[1, 0]\n",
    "b = y[1, 3]"
   ]
  },
  {
   "cell_type": "code",
   "execution_count": 275,
   "metadata": {},
   "outputs": [
    {
     "data": {
      "text/plain": [
       "3.0"
      ]
     },
     "execution_count": 275,
     "metadata": {},
     "output_type": "execute_result"
    }
   ],
   "source": [
    "y.node_distance(a, b)"
   ]
  },
  {
   "cell_type": "code",
   "execution_count": 276,
   "metadata": {},
   "outputs": [
    {
     "data": {
      "text/plain": [
       "array([1, 3])"
      ]
     },
     "execution_count": 276,
     "metadata": {},
     "output_type": "execute_result"
    }
   ],
   "source": [
    "y[1, 3].weight"
   ]
  },
  {
   "cell_type": "code",
   "execution_count": 277,
   "metadata": {},
   "outputs": [
    {
     "data": {
      "text/plain": [
       "<__main__.Node at 0x1ceef36f080>"
      ]
     },
     "execution_count": 277,
     "metadata": {},
     "output_type": "execute_result"
    }
   ],
   "source": [
    "y.find_closest(y[1,0].weight+np.array([1, 3]))"
   ]
  },
  {
   "cell_type": "code",
   "execution_count": 278,
   "metadata": {},
   "outputs": [
    {
     "data": {
      "text/plain": [
       "(2, 3)"
      ]
     },
     "execution_count": 278,
     "metadata": {},
     "output_type": "execute_result"
    }
   ],
   "source": [
    "y.find_closest_id(y[1,0].weight+np.array([1, 3]))"
   ]
  },
  {
   "cell_type": "code",
   "execution_count": 279,
   "metadata": {},
   "outputs": [
    {
     "data": {
      "text/plain": [
       "<__main__.Node at 0x1ceef36f080>"
      ]
     },
     "execution_count": 279,
     "metadata": {},
     "output_type": "execute_result"
    }
   ],
   "source": [
    "y.lattice[y.find_closest_id(y[1,0].weight+np.array([1, 3]))]"
   ]
  },
  {
   "cell_type": "code",
   "execution_count": 280,
   "metadata": {},
   "outputs": [
    {
     "name": "stdout",
     "output_type": "stream",
     "text": [
      "0.3678794411714422\n",
      "0.6065306597126334\n",
      "0.3678794411714422\n",
      "0.08208499862389876\n",
      "0.006737946999085461\n",
      "0.6065306597126334\n",
      "1.0\n",
      "0.6065306597126334\n",
      "0.1353352832366127\n",
      "0.011108996538242306\n",
      "0.3678794411714422\n",
      "0.6065306597126334\n",
      "0.3678794411714422\n",
      "0.08208499862389876\n",
      "0.006737946999085461\n"
     ]
    }
   ],
   "source": [
    "y.train(np.array([0.75, 0.75]))"
   ]
  },
  {
   "cell_type": "code",
   "execution_count": 281,
   "metadata": {},
   "outputs": [
    {
     "data": {
      "text/plain": [
       "array([1, 0])"
      ]
     },
     "execution_count": 281,
     "metadata": {},
     "output_type": "execute_result"
    }
   ],
   "source": [
    "y[1,0].position"
   ]
  },
  {
   "cell_type": "code",
   "execution_count": 282,
   "metadata": {},
   "outputs": [
    {
     "data": {
      "text/plain": [
       "array([2. , 2.6])"
      ]
     },
     "execution_count": 282,
     "metadata": {},
     "output_type": "execute_result"
    }
   ],
   "source": [
    "y[1,1].weight+np.array([1,1.6])"
   ]
  },
  {
   "cell_type": "code",
   "execution_count": 283,
   "metadata": {},
   "outputs": [
    {
     "data": {
      "text/plain": [
       "array([2. , 3.3])"
      ]
     },
     "execution_count": 283,
     "metadata": {},
     "output_type": "execute_result"
    }
   ],
   "source": [
    "(y[1,1]+np.array([1,2.3])).weight"
   ]
  },
  {
   "cell_type": "code",
   "execution_count": 284,
   "metadata": {},
   "outputs": [
    {
     "data": {
      "text/plain": [
       "array([6. , 9.9])"
      ]
     },
     "execution_count": 284,
     "metadata": {},
     "output_type": "execute_result"
    }
   ],
   "source": [
    "(y[1,1]*3).weight"
   ]
  },
  {
   "cell_type": "code",
   "execution_count": 285,
   "metadata": {},
   "outputs": [
    {
     "data": {
      "text/plain": [
       "array([0.6 , 0.99])"
      ]
     },
     "execution_count": 285,
     "metadata": {},
     "output_type": "execute_result"
    }
   ],
   "source": [
    "(y[1,1]*0.1).weight"
   ]
  },
  {
   "cell_type": "code",
   "execution_count": 288,
   "metadata": {},
   "outputs": [
    {
     "ename": "RecursionError",
     "evalue": "maximum recursion depth exceeded while calling a Python object",
     "output_type": "error",
     "traceback": [
      "\u001b[1;31m---------------------------------------------------------------------------\u001b[0m",
      "\u001b[1;31mRecursionError\u001b[0m                            Traceback (most recent call last)",
      "\u001b[1;32m<ipython-input-288-527aaffa04b4>\u001b[0m in \u001b[0;36m<module>\u001b[1;34m\u001b[0m\n\u001b[1;32m----> 1\u001b[1;33m \u001b[1;33m(\u001b[0m\u001b[0my\u001b[0m\u001b[1;33m[\u001b[0m\u001b[1;36m1\u001b[0m\u001b[1;33m,\u001b[0m\u001b[1;36m1\u001b[0m\u001b[1;33m]\u001b[0m\u001b[1;33m*\u001b[0m\u001b[0my\u001b[0m\u001b[1;33m[\u001b[0m\u001b[1;36m1\u001b[0m\u001b[1;33m,\u001b[0m\u001b[1;36m1\u001b[0m\u001b[1;33m]\u001b[0m\u001b[1;33m)\u001b[0m\u001b[1;33m\u001b[0m\u001b[0m\n\u001b[0m",
      "\u001b[1;32m<ipython-input-269-97bddb923088>\u001b[0m in \u001b[0;36m__mul__\u001b[1;34m(self, other)\u001b[0m\n\u001b[0;32m     33\u001b[0m     \u001b[1;32mdef\u001b[0m \u001b[0m__mul__\u001b[0m\u001b[1;33m(\u001b[0m\u001b[0mself\u001b[0m\u001b[1;33m,\u001b[0m \u001b[0mother\u001b[0m\u001b[1;33m)\u001b[0m\u001b[1;33m:\u001b[0m\u001b[1;33m\u001b[0m\u001b[0m\n\u001b[0;32m     34\u001b[0m         \u001b[1;32mtry\u001b[0m\u001b[1;33m:\u001b[0m\u001b[1;33m\u001b[0m\u001b[0m\n\u001b[1;32m---> 35\u001b[1;33m             \u001b[0mself\u001b[0m\u001b[1;33m.\u001b[0m\u001b[0mweight\u001b[0m \u001b[1;33m=\u001b[0m \u001b[0mother\u001b[0m\u001b[1;33m*\u001b[0m\u001b[0mself\u001b[0m\u001b[1;33m.\u001b[0m\u001b[0mweight\u001b[0m\u001b[1;33m\u001b[0m\u001b[0m\n\u001b[0m\u001b[0;32m     36\u001b[0m             \u001b[1;32mreturn\u001b[0m \u001b[0mself\u001b[0m\u001b[1;33m\u001b[0m\u001b[0m\n\u001b[0;32m     37\u001b[0m         \u001b[1;32mexcept\u001b[0m \u001b[0mTypeError\u001b[0m\u001b[1;33m:\u001b[0m\u001b[1;33m\u001b[0m\u001b[0m\n",
      "... last 1 frames repeated, from the frame below ...\n",
      "\u001b[1;32m<ipython-input-269-97bddb923088>\u001b[0m in \u001b[0;36m__mul__\u001b[1;34m(self, other)\u001b[0m\n\u001b[0;32m     33\u001b[0m     \u001b[1;32mdef\u001b[0m \u001b[0m__mul__\u001b[0m\u001b[1;33m(\u001b[0m\u001b[0mself\u001b[0m\u001b[1;33m,\u001b[0m \u001b[0mother\u001b[0m\u001b[1;33m)\u001b[0m\u001b[1;33m:\u001b[0m\u001b[1;33m\u001b[0m\u001b[0m\n\u001b[0;32m     34\u001b[0m         \u001b[1;32mtry\u001b[0m\u001b[1;33m:\u001b[0m\u001b[1;33m\u001b[0m\u001b[0m\n\u001b[1;32m---> 35\u001b[1;33m             \u001b[0mself\u001b[0m\u001b[1;33m.\u001b[0m\u001b[0mweight\u001b[0m \u001b[1;33m=\u001b[0m \u001b[0mother\u001b[0m\u001b[1;33m*\u001b[0m\u001b[0mself\u001b[0m\u001b[1;33m.\u001b[0m\u001b[0mweight\u001b[0m\u001b[1;33m\u001b[0m\u001b[0m\n\u001b[0m\u001b[0;32m     36\u001b[0m             \u001b[1;32mreturn\u001b[0m \u001b[0mself\u001b[0m\u001b[1;33m\u001b[0m\u001b[0m\n\u001b[0;32m     37\u001b[0m         \u001b[1;32mexcept\u001b[0m \u001b[0mTypeError\u001b[0m\u001b[1;33m:\u001b[0m\u001b[1;33m\u001b[0m\u001b[0m\n",
      "\u001b[1;31mRecursionError\u001b[0m: maximum recursion depth exceeded while calling a Python object"
     ]
    }
   ],
   "source": [
    "(y[1,1]*y[1,1])"
   ]
  },
  {
   "cell_type": "code",
   "execution_count": null,
   "metadata": {},
   "outputs": [],
   "source": []
  },
  {
   "cell_type": "code",
   "execution_count": null,
   "metadata": {},
   "outputs": [],
   "source": []
  },
  {
   "cell_type": "code",
   "execution_count": null,
   "metadata": {},
   "outputs": [],
   "source": []
  },
  {
   "cell_type": "code",
   "execution_count": null,
   "metadata": {},
   "outputs": [],
   "source": [
    "x = np.array([3])"
   ]
  },
  {
   "cell_type": "code",
   "execution_count": null,
   "metadata": {},
   "outputs": [],
   "source": [
    "y = Lattice_1D(x)"
   ]
  },
  {
   "cell_type": "code",
   "execution_count": 14,
   "metadata": {},
   "outputs": [
    {
     "data": {
      "text/plain": [
       "array([[[0, 0],\n",
       "        [0, 1],\n",
       "        [0, 2],\n",
       "        [0, 3],\n",
       "        [0, 4]],\n",
       "\n",
       "       [[1, 0],\n",
       "        [1, 1],\n",
       "        [1, 2],\n",
       "        [1, 3],\n",
       "        [1, 4]],\n",
       "\n",
       "       [[2, 0],\n",
       "        [2, 1],\n",
       "        [2, 2],\n",
       "        [2, 3],\n",
       "        [2, 4]]])"
      ]
     },
     "execution_count": 14,
     "metadata": {},
     "output_type": "execute_result"
    }
   ],
   "source": [
    "y.get_weight()"
   ]
  },
  {
   "cell_type": "code",
   "execution_count": 15,
   "metadata": {},
   "outputs": [
    {
     "name": "stdout",
     "output_type": "stream",
     "text": [
      "[[1.41421356 1.         1.41421356 2.23606798 3.16227766]\n",
      " [1.         0.         1.         2.         3.        ]\n",
      " [1.41421356 1.         1.41421356 2.23606798 3.16227766]]\n"
     ]
    },
    {
     "ename": "AttributeError",
     "evalue": "'Node' object has no attribute 'update'",
     "output_type": "error",
     "traceback": [
      "\u001b[1;31m---------------------------------------------------------------------------\u001b[0m",
      "\u001b[1;31mAttributeError\u001b[0m                            Traceback (most recent call last)",
      "\u001b[1;32m<ipython-input-15-c51e956ea438>\u001b[0m in \u001b[0;36m<module>\u001b[1;34m\u001b[0m\n\u001b[1;32m----> 1\u001b[1;33m \u001b[0my\u001b[0m\u001b[1;33m.\u001b[0m\u001b[0mtrain\u001b[0m\u001b[1;33m(\u001b[0m\u001b[0mnp\u001b[0m\u001b[1;33m.\u001b[0m\u001b[0marray\u001b[0m\u001b[1;33m(\u001b[0m\u001b[1;33m[\u001b[0m\u001b[1;36m0.75\u001b[0m\u001b[1;33m]\u001b[0m\u001b[1;33m)\u001b[0m\u001b[1;33m)\u001b[0m\u001b[1;33m\u001b[0m\u001b[0m\n\u001b[0m",
      "\u001b[1;32m<ipython-input-2-a4ce6cd68429>\u001b[0m in \u001b[0;36mtrain\u001b[1;34m(self, input)\u001b[0m\n\u001b[0;32m     66\u001b[0m \u001b[1;33m\u001b[0m\u001b[0m\n\u001b[0;32m     67\u001b[0m         \u001b[1;32mfor\u001b[0m \u001b[0mnode\u001b[0m \u001b[1;32min\u001b[0m \u001b[0mself\u001b[0m\u001b[1;33m:\u001b[0m\u001b[1;33m\u001b[0m\u001b[0m\n\u001b[1;32m---> 68\u001b[1;33m             \u001b[0mnode\u001b[0m\u001b[1;33m.\u001b[0m\u001b[0mupdate\u001b[0m\u001b[1;33m(\u001b[0m\u001b[0mcandidate\u001b[0m\u001b[1;33m)\u001b[0m \u001b[1;31m#candidate ou input ? Regarder\u001b[0m\u001b[1;33m\u001b[0m\u001b[0m\n\u001b[0m\u001b[0;32m     69\u001b[0m     \u001b[1;31m# TODO : add an iterable here, to avoid thinking about i, j (, k, ...)\u001b[0m\u001b[1;33m\u001b[0m\u001b[1;33m\u001b[0m\u001b[0m\n\u001b[0;32m     70\u001b[0m \u001b[1;33m\u001b[0m\u001b[0m\n",
      "\u001b[1;31mAttributeError\u001b[0m: 'Node' object has no attribute 'update'"
     ]
    }
   ],
   "source": [
    "y.train(np.array([0.75]))"
   ]
  },
  {
   "cell_type": "code",
   "execution_count": 16,
   "metadata": {},
   "outputs": [
    {
     "data": {
      "text/plain": [
       "2"
      ]
     },
     "execution_count": 16,
     "metadata": {},
     "output_type": "execute_result"
    }
   ],
   "source": [
    "np.array([[1, 1],[1,2]])[(1,1)]"
   ]
  },
  {
   "cell_type": "code",
   "execution_count": 17,
   "metadata": {},
   "outputs": [
    {
     "data": {
      "text/plain": [
       "5"
      ]
     },
     "execution_count": 17,
     "metadata": {},
     "output_type": "execute_result"
    }
   ],
   "source": [
    "np.array([1, 1, 5])[(2,)]"
   ]
  },
  {
   "cell_type": "code",
   "execution_count": null,
   "metadata": {},
   "outputs": [],
   "source": []
  },
  {
   "cell_type": "code",
   "execution_count": null,
   "metadata": {},
   "outputs": [],
   "source": []
  }
 ],
 "metadata": {
  "kernelspec": {
   "display_name": "Python 3",
   "language": "python",
   "name": "python3"
  },
  "language_info": {
   "codemirror_mode": {
    "name": "ipython",
    "version": 3
   },
   "file_extension": ".py",
   "mimetype": "text/x-python",
   "name": "python",
   "nbconvert_exporter": "python",
   "pygments_lexer": "ipython3",
   "version": "3.6.1"
  }
 },
 "nbformat": 4,
 "nbformat_minor": 2
}

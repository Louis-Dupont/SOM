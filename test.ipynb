{
 "cells": [
  {
   "cell_type": "code",
   "execution_count": 1,
   "metadata": {},
   "outputs": [],
   "source": [
    "import numpy as np"
   ]
  },
  {
   "cell_type": "code",
   "execution_count": 16,
   "metadata": {},
   "outputs": [],
   "source": [
    "# def add_dim(x, data = {\"depth\":0}):\n",
    "#     if x.shape[0]>0:\n",
    "#         data[\"depth\"]+=1\n",
    "#         return np.array([add_dim(x[1:], data) for _ in range(x[0])])\n",
    "#     else:\n",
    "#         return Node(0)\n",
    "        "
   ]
  },
  {
   "cell_type": "code",
   "execution_count": 250,
   "metadata": {},
   "outputs": [
    {
     "data": {
      "text/plain": [
       "1.7320508075688772"
      ]
     },
     "execution_count": 250,
     "metadata": {},
     "output_type": "execute_result"
    }
   ],
   "source": [
    "np.linalg.norm([1, 1, 1])"
   ]
  },
  {
   "cell_type": "code",
   "execution_count": 901,
   "metadata": {},
   "outputs": [],
   "source": [
    "class Node():\n",
    "    def __init__(self, lattice, *args):\n",
    "        self.lattice = lattice\n",
    "        self.weight   = np.array(args) \n",
    "        self.position = np.array(args)\n",
    "        \n",
    "    def get_weight(self):\n",
    "        return self.weight\n",
    "    \n",
    "    def get_position(self):\n",
    "        return self.position\n",
    "    \n",
    "    def distance_to(self, vector):\n",
    "        return self.lattice.distance_function(vector- self.weight)\n",
    "    \n",
    "    def __getitem__(self, i):\n",
    "        return self.position[i]\n",
    "    \n",
    "    \n",
    "class Lattice():\n",
    "    def __init__(self):\n",
    "        self.lattice = None\n",
    "        self.distance_function = np.linalg.norm\n",
    "             \n",
    "    def __getitem__(self, position):\n",
    "        return self.lattice[position]   \n",
    "        \n",
    "    \n",
    "    def distance(self, node_1, node_2):\n",
    "        return self.distance_function(node_1.weight-node_2.weight)\n",
    "    \n",
    "    def get_node_weight(self, position):\n",
    "        return self[position].get_weight()\n",
    "    \n",
    "        \n",
    "    def get_weight(self):\n",
    "        f = np.vectorize(lambda node: node.get_weight(), signature='()->(n)')\n",
    "        return f(self.lattice)\n",
    "    \n",
    "    def get_position(self):\n",
    "        f = np.vectorize(lambda node: node.get_position(), signature='()->(n)')\n",
    "        return f(self.lattice)\n",
    "    \n",
    "    \n",
    "    \n",
    "    def relative_distance(self, ref_vector):\n",
    "        f = np.vectorize(lambda node: node.distance_to(ref_vector))\n",
    "        return f(self.lattice)\n",
    "    \n",
    "    def find_closest_id(self, ref_vector):\n",
    "        distance_matrix = self.relative_distance(ref_vector)\n",
    "        return np.unravel_index(distance_matrix.argmin(), distance_matrix.shape)\n",
    "    \n",
    "    def find_closest(self, ref_vector):\n",
    "        return self.lattice[self.find_closest_id(ref_vector)]\n",
    "    \n",
    "#     def u_matrix(self):\n",
    "#         f = np.vectorize(lambda node_1, node_2: self.distance(node_1, node_2))\n",
    "#         return f(self.lattice, self.lattice)\n",
    "        \n",
    "\n",
    "    def train(self, input):\n",
    "        candidate = self.find_closest(input)\n",
    "        distance_to_candidate = self.relative_distance(candidate.get_weight())\n",
    "        print(distance_to_candidate)\n",
    "        \n",
    "        for node in self:\n",
    "            node.update(candidate) #candidate ou input ? Regarder\n",
    "    # TODO : add an iterable here, to avoid thinking about i, j (, k, ...)\n",
    "    \n",
    "    \n",
    "    def __iter__(self):\n",
    "        pass\n",
    "    \n",
    "    \n",
    "    \n",
    "class Lattice_1D(Lattice):\n",
    "    def __init__(self, list_dim):\n",
    "        super().__init__()\n",
    "        self.lattice = np.array([Node(self, i) for i in range(list_dim[0])])\n",
    "                \n",
    "    def __iter__(self):\n",
    "        for i in xrange(self.list_dim[0]):\n",
    "            yield self.lattice[i]\n",
    "    \n",
    "        \n",
    "class Lattice_2D(Lattice):\n",
    "    def __init__(self, list_dim):\n",
    "        super().__init__()\n",
    "        self.list_dim = list_dim\n",
    "        self.lattice = np.array([[Node(self, i, j) for j in range(list_dim[1])] \n",
    "                                                   for i in range(list_dim[0])])\n",
    "        \n",
    "    \n",
    "    def __iter__(self):\n",
    "        for i in range(self.list_dim[0]):\n",
    "            for j in range(self.list_dim[1]):\n",
    "                yield self.lattice[i][j]"
   ]
  },
  {
   "cell_type": "code",
   "execution_count": 902,
   "metadata": {},
   "outputs": [],
   "source": [
    "x = np.array([3, 5])"
   ]
  },
  {
   "cell_type": "code",
   "execution_count": 903,
   "metadata": {},
   "outputs": [],
   "source": [
    "y = Lattice_2D(x)"
   ]
  },
  {
   "cell_type": "code",
   "execution_count": 904,
   "metadata": {},
   "outputs": [
    {
     "data": {
      "text/plain": [
       "(3, 5)"
      ]
     },
     "execution_count": 904,
     "metadata": {},
     "output_type": "execute_result"
    }
   ],
   "source": [
    "np.array(y.lattice).shape"
   ]
  },
  {
   "cell_type": "code",
   "execution_count": 905,
   "metadata": {},
   "outputs": [],
   "source": [
    "w = y.get_weight()"
   ]
  },
  {
   "cell_type": "code",
   "execution_count": 906,
   "metadata": {},
   "outputs": [],
   "source": [
    "a = y[1, 0]\n",
    "b = y[1, 3]"
   ]
  },
  {
   "cell_type": "code",
   "execution_count": 907,
   "metadata": {},
   "outputs": [
    {
     "data": {
      "text/plain": [
       "3.0"
      ]
     },
     "execution_count": 907,
     "metadata": {},
     "output_type": "execute_result"
    }
   ],
   "source": [
    "y.distance(a, b)"
   ]
  },
  {
   "cell_type": "code",
   "execution_count": 908,
   "metadata": {},
   "outputs": [
    {
     "data": {
      "text/plain": [
       "array([1, 3])"
      ]
     },
     "execution_count": 908,
     "metadata": {},
     "output_type": "execute_result"
    }
   ],
   "source": [
    "y[1, 3].weight"
   ]
  },
  {
   "cell_type": "code",
   "execution_count": 909,
   "metadata": {},
   "outputs": [
    {
     "data": {
      "text/plain": [
       "<__main__.Node at 0x20c4d477080>"
      ]
     },
     "execution_count": 909,
     "metadata": {},
     "output_type": "execute_result"
    }
   ],
   "source": [
    "y.find_closest(y[1,0].weight+np.array([1, 3]))"
   ]
  },
  {
   "cell_type": "code",
   "execution_count": 910,
   "metadata": {},
   "outputs": [
    {
     "data": {
      "text/plain": [
       "(2, 3)"
      ]
     },
     "execution_count": 910,
     "metadata": {},
     "output_type": "execute_result"
    }
   ],
   "source": [
    "y.find_closest_id(y[1,0].weight+np.array([1, 3]))"
   ]
  },
  {
   "cell_type": "code",
   "execution_count": 911,
   "metadata": {},
   "outputs": [
    {
     "data": {
      "text/plain": [
       "<__main__.Node at 0x20c4d477080>"
      ]
     },
     "execution_count": 911,
     "metadata": {},
     "output_type": "execute_result"
    }
   ],
   "source": [
    "y.lattice[y.find_closest_id(y[1,0].weight+np.array([1, 3]))]"
   ]
  },
  {
   "cell_type": "code",
   "execution_count": 912,
   "metadata": {},
   "outputs": [
    {
     "name": "stdout",
     "output_type": "stream",
     "text": [
      "[[1.41421356 1.         1.41421356 2.23606798 3.16227766]\n",
      " [1.         0.         1.         2.         3.        ]\n",
      " [1.41421356 1.         1.41421356 2.23606798 3.16227766]]\n"
     ]
    }
   ],
   "source": [
    "y.train(np.array([0.75, 0.75]))"
   ]
  },
  {
   "cell_type": "code",
   "execution_count": 913,
   "metadata": {},
   "outputs": [
    {
     "name": "stdout",
     "output_type": "stream",
     "text": [
      "[0 0]\n",
      "[0 1]\n",
      "[0 2]\n",
      "[0 3]\n",
      "[0 4]\n",
      "[1 0]\n",
      "[1 1]\n",
      "[1 2]\n",
      "[1 3]\n",
      "[1 4]\n",
      "[2 0]\n",
      "[2 1]\n",
      "[2 2]\n",
      "[2 3]\n",
      "[2 4]\n"
     ]
    }
   ],
   "source": [
    "for x in y:\n",
    "    print(x.position)"
   ]
  },
  {
   "cell_type": "code",
   "execution_count": null,
   "metadata": {},
   "outputs": [],
   "source": []
  },
  {
   "cell_type": "code",
   "execution_count": 887,
   "metadata": {},
   "outputs": [],
   "source": [
    "x = np.array([3])"
   ]
  },
  {
   "cell_type": "code",
   "execution_count": 888,
   "metadata": {},
   "outputs": [],
   "source": [
    "y = Lattice_1D(x)"
   ]
  },
  {
   "cell_type": "code",
   "execution_count": 889,
   "metadata": {},
   "outputs": [
    {
     "data": {
      "text/plain": [
       "array([[0],\n",
       "       [1],\n",
       "       [2]])"
      ]
     },
     "execution_count": 889,
     "metadata": {},
     "output_type": "execute_result"
    }
   ],
   "source": [
    "y.get_weight()"
   ]
  },
  {
   "cell_type": "code",
   "execution_count": 890,
   "metadata": {},
   "outputs": [
    {
     "name": "stdout",
     "output_type": "stream",
     "text": [
      "[1. 0. 1.]\n"
     ]
    }
   ],
   "source": [
    "y.train(np.array([0.75]))"
   ]
  },
  {
   "cell_type": "code",
   "execution_count": 873,
   "metadata": {},
   "outputs": [
    {
     "data": {
      "text/plain": [
       "2"
      ]
     },
     "execution_count": 873,
     "metadata": {},
     "output_type": "execute_result"
    }
   ],
   "source": [
    "np.array([[1, 1],[1,2]])[(1,1)]"
   ]
  },
  {
   "cell_type": "code",
   "execution_count": 874,
   "metadata": {},
   "outputs": [
    {
     "data": {
      "text/plain": [
       "5"
      ]
     },
     "execution_count": 874,
     "metadata": {},
     "output_type": "execute_result"
    }
   ],
   "source": [
    "np.array([1, 1, 5])[(2,)]"
   ]
  },
  {
   "cell_type": "code",
   "execution_count": null,
   "metadata": {},
   "outputs": [],
   "source": []
  },
  {
   "cell_type": "code",
   "execution_count": null,
   "metadata": {},
   "outputs": [],
   "source": []
  }
 ],
 "metadata": {
  "kernelspec": {
   "display_name": "Python 3",
   "language": "python",
   "name": "python3"
  },
  "language_info": {
   "codemirror_mode": {
    "name": "ipython",
    "version": 3
   },
   "file_extension": ".py",
   "mimetype": "text/x-python",
   "name": "python",
   "nbconvert_exporter": "python",
   "pygments_lexer": "ipython3",
   "version": "3.6.1"
  }
 },
 "nbformat": 4,
 "nbformat_minor": 2
}
